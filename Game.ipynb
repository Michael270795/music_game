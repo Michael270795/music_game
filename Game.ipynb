{
 "cells": [
  {
   "cell_type": "code",
   "execution_count": 47,
   "metadata": {},
   "outputs": [],
   "source": [
    "import pandas as pd\n",
    "from random import randrange\n",
    "import ipywidgets as widgets\n",
    "import math\n",
    "import random\n",
    "import webbrowser\n",
    "from IPython.display import clear_output\n",
    "from ipywidgets import AppLayout, Button, Layout\n",
    "from IPython.display import IFrame"
   ]
  },
  {
   "cell_type": "code",
   "execution_count": null,
   "metadata": {},
   "outputs": [],
   "source": []
  },
  {
   "cell_type": "code",
   "execution_count": 48,
   "metadata": {},
   "outputs": [],
   "source": [
    "songs = pd.read_excel('songs.xlsx')\n",
    "counter = 0\n",
    "song_number = list(range(len(songs)))"
   ]
  },
  {
   "cell_type": "code",
   "execution_count": null,
   "metadata": {},
   "outputs": [],
   "source": []
  },
  {
   "cell_type": "code",
   "execution_count": 49,
   "metadata": {},
   "outputs": [],
   "source": [
    "#url = songs['URL spotify'][3]\n",
    "\n",
    "\n",
    "# MacOS\n",
    "#chrome_path = 'open -a /Applications/Google\\ Chrome.app %s'\n",
    "\n",
    "#chrome_path = 'open -a /Applications/Safari.app %s'\n",
    "#chrome_path = 'open -a /Applications/Firefox.app %s'\n",
    "# Windows\n",
    "# chrome_path = 'C:/Program Files (x86)/Google/Chrome/Application/chrome.exe %s'\n",
    "# Linux\n",
    "# chrome_path = '/usr/bin/google-chrome %s'\n",
    "\n",
    "#webbrowser.get(chrome_path).open(url)"
   ]
  },
  {
   "cell_type": "code",
   "execution_count": 50,
   "metadata": {},
   "outputs": [],
   "source": [
    "# function to not repeat songs -> clean ending\n",
    "# function to hide answers\n",
    "# function to select languages of songs\n",
    "# function to slecect different genres or playlists\n",
    "# button colour difficulty -> amount of sips\n",
    "# more buttons, make sure that they are all different question categories"
   ]
  },
  {
   "cell_type": "code",
   "execution_count": null,
   "metadata": {},
   "outputs": [],
   "source": []
  },
  {
   "cell_type": "code",
   "execution_count": null,
   "metadata": {},
   "outputs": [],
   "source": []
  },
  {
   "cell_type": "code",
   "execution_count": 52,
   "metadata": {
    "scrolled": false
   },
   "outputs": [
    {
     "data": {
      "application/vnd.jupyter.widget-view+json": {
       "model_id": "24e40bbd22994ce380368baacc47b574",
       "version_major": 2,
       "version_minor": 0
      },
      "text/plain": [
       "AppLayout(children=(Button(button_style='success', description='Start new round', layout=Layout(grid_area='hea…"
      ]
     },
     "metadata": {},
     "output_type": "display_data"
    },
    {
     "name": "stdout",
     "output_type": "stream",
     "text": [
      "-- Round 2 --\n",
      "Question: What did he / she said?\n",
      "Answer: She said goodbye\n"
     ]
    }
   ],
   "source": [
    "\n",
    "\n",
    "# button elements\n",
    "\n",
    "def create_expanded_button(description, button_style):\n",
    "    return Button(description=description, button_style=button_style, layout=Layout(height='auto', width='auto'))\n",
    "\n",
    "\n",
    "#html_left = widgets.HTML('<a href=\"spotify:track:2374M0fQpWi3dLnB54qaLX#0:11\" target=\"_blank\"><b>Hellfeldbeleuchtung</b></a>')\n",
    "\n",
    "\n",
    "header_button = create_expanded_button('Start new round', 'success')\n",
    "left_button = create_expanded_button('Song A', 'info')\n",
    "right_button = create_expanded_button('Song B', 'info')\n",
    "footer_button = create_expanded_button('Show answer', '')\n",
    "\n",
    "a = AppLayout(header=header_button,\n",
    "          left_sidebar=left_button,\n",
    "          center=None,\n",
    "          right_sidebar=right_button,\n",
    "          footer=footer_button\n",
    "         )\n",
    "\n",
    "\n",
    "\n",
    "# define functions\n",
    "option1 = randrange(songs.shape[0])\n",
    "option2 = randrange(songs.shape[0])\n",
    "counter = 0\n",
    "answer = ''\n",
    "\n",
    "\n",
    "def playA(change):\n",
    "    global option1\n",
    "    global song_number, answer\n",
    "    try:\n",
    "        if math.isnan(songs['Time'][option1]):\n",
    "            url = songs['URL spotify'][option1] + '#0:01'\n",
    "        else:    \n",
    "            url = songs['URL spotify'][option1] + '#' + songs['Time'][option1]\n",
    "    except:\n",
    "        url = songs['URL spotify'][option1] + '#' + songs['Time'][option1]\n",
    "    try:\n",
    "        webbrowser.open(url)\n",
    "    except:    \n",
    "        display(IFrame(src=url, width='1px', height='1px'))\n",
    "    try:\n",
    "        song_number.remove(option1)\n",
    "    except:\n",
    "        pass\n",
    "    print('Question:',songs['Question'][option1])\n",
    "    answer = 'Answer: ' + songs['Answer'][option1]\n",
    "       \n",
    "def playB(change):\n",
    "    global option2\n",
    "    global song_number, answer\n",
    "    try:\n",
    "        if math.isnan(songs['Time'][option2]):\n",
    "            url = songs['URL spotify'][option2] + '#0:01'\n",
    "        else:    \n",
    "            url = songs['URL spotify'][option2] + '#' + songs['Time'][option2]\n",
    "    except:\n",
    "        url = songs['URL spotify'][option2] + '#' + songs['Time'][option2]  \n",
    "    try:\n",
    "        webbrowser.open(url)\n",
    "    except:    \n",
    "        display(IFrame(src=url, width='1px', height='1px'))\n",
    "    try:\n",
    "        song_number.remove(option2)\n",
    "    except:\n",
    "        pass \n",
    "    print('Question:',songs['Question'][option2])\n",
    "    answer = 'Answer: ' + songs['Answer'][option2]\n",
    "    \n",
    "    \n",
    "def new(change):\n",
    "    global option1, option2, counter, song_number\n",
    "    option1 = random.choice(song_number) \n",
    "    left_button.description = songs['Question'][option1]\n",
    "    option2 = random.choice(song_number)\n",
    "    right_button.description = songs['Question'][option2]\n",
    "    counter += 1\n",
    "    clear_output(wait=True)\n",
    "    display(a)\n",
    "    print('-- Round', counter, '--')\n",
    "    \n",
    "def show_result(change):\n",
    "    global answer\n",
    "    print(answer)\n",
    "    \n",
    "    \n",
    "\n",
    "\n",
    "display(a)\n",
    "left_button.on_click(playA)\n",
    "right_button.on_click(playB)\n",
    "header_button.on_click(new)\n",
    "footer_button.on_click(show_result)\n",
    "print('Amount of available songs: %d' %(len(songs)))\n",
    "\n"
   ]
  },
  {
   "cell_type": "code",
   "execution_count": 30,
   "metadata": {},
   "outputs": [
    {
     "data": {
      "text/html": [
       "\n",
       "        <iframe\n",
       "            width=\"1px\"\n",
       "            height=\"1px\"\n",
       "            src=\"spotify:track:2V65y3PX4DkRhy1djlxd9p\"\n",
       "            frameborder=\"0\"\n",
       "            allowfullscreen\n",
       "        ></iframe>\n",
       "        "
      ],
      "text/plain": [
       "<IPython.lib.display.IFrame at 0x7fcb86435080>"
      ]
     },
     "metadata": {},
     "output_type": "display_data"
    }
   ],
   "source": [
    "# test 1\n",
    "display(IFrame(src=\"spotify:track:2V65y3PX4DkRhy1djlxd9p\", width='1px', height='1px'))\n"
   ]
  },
  {
   "cell_type": "code",
   "execution_count": 32,
   "metadata": {},
   "outputs": [
    {
     "data": {
      "text/html": [
       "\n",
       "        <iframe\n",
       "            width=\"1px\"\n",
       "            height=\"1px\"\n",
       "            src=\"https://open.spotify.com/track/25sgk305KZfyuqVBQIahim?si=T3GjfM0QTOSNZ7ndqGrc-Q\"\n",
       "            frameborder=\"0\"\n",
       "            allowfullscreen\n",
       "        ></iframe>\n",
       "        "
      ],
      "text/plain": [
       "<IPython.lib.display.IFrame at 0x7fcb86435080>"
      ]
     },
     "metadata": {},
     "output_type": "display_data"
    }
   ],
   "source": [
    "#test 2\n",
    "display(IFrame(src=\"https://open.spotify.com/track/25sgk305KZfyuqVBQIahim?si=T3GjfM0QTOSNZ7ndqGrc-Q\", width='1px', height='1px'))\n"
   ]
  },
  {
   "cell_type": "code",
   "execution_count": 35,
   "metadata": {},
   "outputs": [
    {
     "data": {
      "application/vnd.jupyter.widget-view+json": {
       "model_id": "024f0f32d6ff4b12bd5369ba017251c0",
       "version_major": 2,
       "version_minor": 0
      },
      "text/plain": [
       "HTML(value='<a href=\"spotify:track:2374M0fQpWi3dLnB54qaLX#0:11\" target=\"_blank\"><b>Test3</b></a>')"
      ]
     },
     "metadata": {},
     "output_type": "display_data"
    }
   ],
   "source": [
    "widgets.HTML('<a href=\"spotify:track:2374M0fQpWi3dLnB54qaLX\" target=\"_blank\"><b>Test3</b></a>')"
   ]
  },
  {
   "cell_type": "code",
   "execution_count": 36,
   "metadata": {},
   "outputs": [
    {
     "data": {
      "application/vnd.jupyter.widget-view+json": {
       "model_id": "4dfaaf78faf2497980e6d6a7173233c7",
       "version_major": 2,
       "version_minor": 0
      },
      "text/plain": [
       "HTML(value='<a href=\"https://open.spotify.com/track/25sgk305KZfyuqVBQIahim?si=T3GjfM0QTOSNZ7ndqGrc-Q\" target=\"…"
      ]
     },
     "metadata": {},
     "output_type": "display_data"
    }
   ],
   "source": [
    "widgets.HTML('<a href=\"https://open.spotify.com/track/25sgk305KZfyuqVBQIahim?si=T3GjfM0QTOSNZ7ndqGrc-Q\" target=\"_blank\"><b>Test4</b></a>')"
   ]
  },
  {
   "cell_type": "code",
   "execution_count": null,
   "metadata": {},
   "outputs": [],
   "source": []
  },
  {
   "cell_type": "code",
   "execution_count": 210,
   "metadata": {},
   "outputs": [],
   "source": []
  },
  {
   "cell_type": "code",
   "execution_count": null,
   "metadata": {},
   "outputs": [],
   "source": []
  },
  {
   "cell_type": "code",
   "execution_count": null,
   "metadata": {},
   "outputs": [],
   "source": []
  }
 ],
 "metadata": {
  "kernelspec": {
   "display_name": "Python 3",
   "language": "python",
   "name": "python3"
  },
  "language_info": {
   "codemirror_mode": {
    "name": "ipython",
    "version": 3
   },
   "file_extension": ".py",
   "mimetype": "text/x-python",
   "name": "python",
   "nbconvert_exporter": "python",
   "pygments_lexer": "ipython3",
   "version": "3.6.8"
  }
 },
 "nbformat": 4,
 "nbformat_minor": 4
}
