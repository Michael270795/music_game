{
 "cells": [
  {
   "cell_type": "code",
   "execution_count": 1,
   "metadata": {},
   "outputs": [],
   "source": [
    "import pandas as pd\n",
    "\n",
    "from random import randrange\n",
    "\n",
    "\n",
    "import ipywidgets as widgets\n",
    "from IPython.display import clear_output\n",
    "import math\n",
    "import random"
   ]
  },
  {
   "cell_type": "code",
   "execution_count": null,
   "metadata": {},
   "outputs": [],
   "source": []
  },
  {
   "cell_type": "code",
   "execution_count": 2,
   "metadata": {},
   "outputs": [],
   "source": [
    "songs = pd.read_excel('songs.xlsx')\n",
    "counter = 0\n",
    "song_number = list(range(len(songs)))"
   ]
  },
  {
   "cell_type": "code",
   "execution_count": null,
   "metadata": {},
   "outputs": [],
   "source": []
  },
  {
   "cell_type": "code",
   "execution_count": 3,
   "metadata": {},
   "outputs": [],
   "source": [
    "#url = songs['URL spotify'][3]\n",
    "\n",
    "\n",
    "# MacOS\n",
    "#chrome_path = 'open -a /Applications/Google\\ Chrome.app %s'\n",
    "\n",
    "#chrome_path = 'open -a /Applications/Safari.app %s'\n",
    "chrome_path = 'open -a /Applications/Firefox.app %s'\n",
    "# Windows\n",
    "# chrome_path = 'C:/Program Files (x86)/Google/Chrome/Application/chrome.exe %s'\n",
    "# Linux\n",
    "# chrome_path = '/usr/bin/google-chrome %s'\n",
    "\n",
    "#webbrowser.get(chrome_path).open(url)"
   ]
  },
  {
   "cell_type": "code",
   "execution_count": 4,
   "metadata": {},
   "outputs": [],
   "source": [
    "# function to not repeat songs -> clean ending\n",
    "# function to hide answers\n",
    "# function to select languages of songs\n",
    "# function to slecect different genres or playlists"
   ]
  },
  {
   "cell_type": "code",
   "execution_count": null,
   "metadata": {},
   "outputs": [],
   "source": []
  },
  {
   "cell_type": "code",
   "execution_count": null,
   "metadata": {},
   "outputs": [],
   "source": []
  },
  {
   "cell_type": "code",
   "execution_count": 5,
   "metadata": {},
   "outputs": [
    {
     "data": {
      "application/vnd.jupyter.widget-view+json": {
       "model_id": "8540077e959e4a788d431e4f40f3a221",
       "version_major": 2,
       "version_minor": 0
      },
      "text/plain": [
       "AppLayout(children=(Button(button_style='success', description='Start new round', layout=Layout(grid_area='hea…"
      ]
     },
     "metadata": {},
     "output_type": "display_data"
    }
   ],
   "source": [
    "from ipywidgets import AppLayout, Button, Layout\n",
    "\n",
    "# button elements\n",
    "\n",
    "def create_expanded_button(description, button_style):\n",
    "    return Button(description=description, button_style=button_style, layout=Layout(height='auto', width='auto'))\n",
    "\n",
    "header_button = create_expanded_button('Start new round', 'success')\n",
    "left_button = create_expanded_button('Song A', 'info')\n",
    "right_button = create_expanded_button('Song B', 'info')\n",
    "#footer_button = create_expanded_button('Footer', 'success')\n",
    "\n",
    "a = AppLayout(header=header_button,\n",
    "          left_sidebar=left_button,\n",
    "          center=None,\n",
    "          right_sidebar=right_button,\n",
    "#          footer=footer_button\n",
    "         )\n",
    "\n",
    "\n",
    "\n",
    "# define functions\n",
    "option1 = randrange(songs.shape[0])\n",
    "option2 = randrange(songs.shape[0])\n",
    "counter = 0\n",
    "\n",
    "\n",
    "\n",
    "def playA(change):\n",
    "    global option1\n",
    "    global song_number\n",
    "    try:\n",
    "        if math.isnan(songs['Time'][option1]):\n",
    "            url = songs['URL spotify'][option1] + '#0:01'\n",
    "        else:    \n",
    "            url = songs['URL spotify'][option1] + '#' + songs['Time'][option1]\n",
    "    except:\n",
    "        url = songs['URL spotify'][option1] + '#' + songs['Time'][option1]\n",
    "    webbrowser.get(chrome_path).open(url)\n",
    "    try:\n",
    "        song_number.remove(option2)\n",
    "    except:\n",
    "        pass\n",
    "    print('Question:',songs['Question'][option1], '- Answer:', songs['Answer'][option1])\n",
    "    \n",
    "    \n",
    "    \n",
    "    \n",
    "def playB(change):\n",
    "    global option2\n",
    "    global song_number\n",
    "    try:\n",
    "        if math.isnan(songs['Time'][option2]):\n",
    "            url = songs['URL spotify'][option2] + '#0:01'\n",
    "        else:    \n",
    "            url = songs['URL spotify'][option2] + '#' + songs['Time'][option2]\n",
    "    except:\n",
    "        url = songs['URL spotify'][option2] + '#' + songs['Time'][option2]\n",
    "    webbrowser.get(chrome_path).open(url)  \n",
    "    try:\n",
    "        song_number.remove(option2)\n",
    "    except:\n",
    "        pass\n",
    "    print('Question:',songs['Question'][option2], '- Answer:', songs['Answer'][option2])\n",
    "    \n",
    "def new(change):\n",
    "    global option1, option2, counter, song_number\n",
    "    #option1 = randrange(songs.shape[0])\n",
    "    option1 = random.choice(song_number) \n",
    "    left_button.description = songs['Question'][option1]\n",
    "    #option2 = randrange(songs.shape[0])\n",
    "    option2 = random.choice(song_number)\n",
    "    right_button.description = songs['Question'][option2]\n",
    "    counter += 1\n",
    "    print('Round', counter)\n",
    "    \n",
    "    \n",
    "\n",
    "\n",
    "display(a)\n",
    "left_button.on_click(playA)\n",
    "right_button.on_click(playB)\n",
    "header_button.on_click(new)\n",
    "\n"
   ]
  },
  {
   "cell_type": "code",
   "execution_count": null,
   "metadata": {},
   "outputs": [],
   "source": []
  },
  {
   "cell_type": "code",
   "execution_count": null,
   "metadata": {},
   "outputs": [],
   "source": []
  },
  {
   "cell_type": "code",
   "execution_count": null,
   "metadata": {},
   "outputs": [],
   "source": []
  },
  {
   "cell_type": "code",
   "execution_count": null,
   "metadata": {},
   "outputs": [],
   "source": []
  },
  {
   "cell_type": "code",
   "execution_count": null,
   "metadata": {},
   "outputs": [],
   "source": []
  },
  {
   "cell_type": "code",
   "execution_count": 210,
   "metadata": {},
   "outputs": [],
   "source": []
  },
  {
   "cell_type": "code",
   "execution_count": null,
   "metadata": {},
   "outputs": [],
   "source": []
  },
  {
   "cell_type": "code",
   "execution_count": null,
   "metadata": {},
   "outputs": [],
   "source": []
  }
 ],
 "metadata": {
  "kernelspec": {
   "display_name": "Python 3",
   "language": "python",
   "name": "python3"
  },
  "language_info": {
   "codemirror_mode": {
    "name": "ipython",
    "version": 3
   },
   "file_extension": ".py",
   "mimetype": "text/x-python",
   "name": "python",
   "nbconvert_exporter": "python",
   "pygments_lexer": "ipython3",
   "version": "3.6.8"
  }
 },
 "nbformat": 4,
 "nbformat_minor": 4
}
