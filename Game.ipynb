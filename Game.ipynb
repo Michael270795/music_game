{
 "cells": [
  {
   "cell_type": "code",
   "execution_count": 2,
   "metadata": {},
   "outputs": [],
   "source": [
    "import pandas as pd\n",
    "from random import randrange\n",
    "import ipywidgets as widgets\n",
    "import math\n",
    "import random\n",
    "import webbrowser\n",
    "from IPython.display import clear_output\n",
    "from ipywidgets import AppLayout, Button, Layout\n",
    "from IPython.display import IFrame"
   ]
  },
  {
   "cell_type": "code",
   "execution_count": null,
   "metadata": {},
   "outputs": [],
   "source": []
  },
  {
   "cell_type": "code",
   "execution_count": 3,
   "metadata": {},
   "outputs": [],
   "source": [
    "songs = pd.read_excel('songs.xlsx')\n",
    "counter = 0\n",
    "song_number = list(range(len(songs)))"
   ]
  },
  {
   "cell_type": "code",
   "execution_count": null,
   "metadata": {},
   "outputs": [],
   "source": []
  },
  {
   "cell_type": "code",
   "execution_count": 1,
   "metadata": {},
   "outputs": [
    {
     "ename": "NameError",
     "evalue": "name 'widgets' is not defined",
     "output_type": "error",
     "traceback": [
      "\u001b[0;31m---------------------------------------------------------------------------\u001b[0m",
      "\u001b[0;31mNameError\u001b[0m                                 Traceback (most recent call last)",
      "\u001b[0;32m<ipython-input-1-318e5d7b8656>\u001b[0m in \u001b[0;36m<module>\u001b[0;34m\u001b[0m\n\u001b[0;32m----> 1\u001b[0;31m smartphone = widgets.Checkbox(\n\u001b[0m\u001b[1;32m      2\u001b[0m     \u001b[0mvalue\u001b[0m\u001b[0;34m=\u001b[0m\u001b[0;32mFalse\u001b[0m\u001b[0;34m,\u001b[0m\u001b[0;34m\u001b[0m\u001b[0;34m\u001b[0m\u001b[0m\n\u001b[1;32m      3\u001b[0m     \u001b[0mdescription\u001b[0m\u001b[0;34m=\u001b[0m\u001b[0;34m'Using a smartphone'\u001b[0m\u001b[0;34m,\u001b[0m\u001b[0;34m\u001b[0m\u001b[0;34m\u001b[0m\u001b[0m\n\u001b[1;32m      4\u001b[0m     \u001b[0mdisabled\u001b[0m\u001b[0;34m=\u001b[0m\u001b[0;32mFalse\u001b[0m\u001b[0;34m\u001b[0m\u001b[0;34m\u001b[0m\u001b[0m\n\u001b[1;32m      5\u001b[0m )\n",
      "\u001b[0;31mNameError\u001b[0m: name 'widgets' is not defined"
     ]
    }
   ],
   "source": [
    "smartphone = widgets.Checkbox(\n",
    "    value=False,\n",
    "    description='Using a smartphone',\n",
    "    disabled=False\n",
    ")\n",
    "display(smartphone)"
   ]
  },
  {
   "cell_type": "code",
   "execution_count": 64,
   "metadata": {},
   "outputs": [],
   "source": [
    "# function to not repeat songs -> clean ending\n",
    "# function to hide answers\n",
    "# function to select languages of songs\n",
    "# function to slecect different genres or playlists\n",
    "# button colour difficulty -> amount of sips\n",
    "# more buttons, make sure that they are all different question categories"
   ]
  },
  {
   "cell_type": "code",
   "execution_count": null,
   "metadata": {},
   "outputs": [],
   "source": []
  },
  {
   "cell_type": "code",
   "execution_count": null,
   "metadata": {},
   "outputs": [],
   "source": []
  },
  {
   "cell_type": "code",
   "execution_count": 11,
   "metadata": {
    "scrolled": false
   },
   "outputs": [
    {
     "data": {
      "application/vnd.jupyter.widget-view+json": {
       "model_id": "8f35087fb09e43efa46a69342d7436ad",
       "version_major": 2,
       "version_minor": 0
      },
      "text/plain": [
       "AppLayout(children=(Button(button_style='success', description='Start new round', layout=Layout(grid_area='hea…"
      ]
     },
     "metadata": {},
     "output_type": "display_data"
    },
    {
     "name": "stdout",
     "output_type": "stream",
     "text": [
      "-- Round 1 --\n",
      "Question: What animal is it about?\n"
     ]
    }
   ],
   "source": [
    "# button elements\n",
    "\n",
    "def create_expanded_button(description, button_style):\n",
    "    return Button(description=description, button_style=button_style, layout=Layout(height='auto', width='auto'))\n",
    "\n",
    "\n",
    "#html_left = widgets.HTML('<a href=\"spotify:track:2374M0fQpWi3dLnB54qaLX#0:11\" target=\"_blank\"><b>Hellfeldbeleuchtung</b></a>')\n",
    "\n",
    "\n",
    "header_button = create_expanded_button('Start new round', 'success')\n",
    "left_button = create_expanded_button('Song A', 'info')\n",
    "right_button = create_expanded_button('Song B', 'info')\n",
    "footer_button = create_expanded_button('Show answer', '')\n",
    "\n",
    "a = AppLayout(header=header_button,\n",
    "          left_sidebar=left_button,\n",
    "          center=None,\n",
    "          right_sidebar=right_button,\n",
    "          footer=footer_button\n",
    "         )\n",
    "\n",
    "\n",
    "\n",
    "# define functions\n",
    "option1 = randrange(songs.shape[0])\n",
    "option2 = randrange(songs.shape[0])\n",
    "counter = 0\n",
    "answer = ''\n",
    "\n",
    "\n",
    "def playA(change):\n",
    "    global option1\n",
    "    global song_number, answer\n",
    "    right_button.disabled = True\n",
    "    if not smartphone.value:\n",
    "        try:\n",
    "            if math.isnan(songs['Time'][option1]):\n",
    "                url = songs['URL spotify'][option1] + '#0:01'\n",
    "            else:    \n",
    "                url = songs['URL spotify'][option1] + '#' + songs['Time'][option1]\n",
    "        except:\n",
    "            url = songs['URL spotify'][option1] + '#' + songs['Time'][option1]\n",
    "        if not webbrowser.open(url):   \n",
    "            display(IFrame(src=url, width='1px', height='1px')) \n",
    "    try:\n",
    "        song_number.remove(option1)\n",
    "    except:\n",
    "        pass\n",
    "    clear_output(wait=True)\n",
    "    display(a)\n",
    "    print('-- Round', counter, '--')\n",
    "    if smartphone.value:\n",
    "        display(widgets.HTML(\"<a href=\"+songs['URL'][option1]+\" target='_blank'><b>\"+songs['Question'][option1]+ ' (Click for playing)'+\"</b></a>\"))\n",
    "    else:\n",
    "        print('Question:',songs['Question'][option1])\n",
    "    answer = 'Answer: ' + songs['Answer'][option1]\n",
    "       \n",
    "def playB(change):\n",
    "    global option2\n",
    "    global song_number, answer\n",
    "    left_button.disabled = True\n",
    "    if not smartphone.value:\n",
    "        try:\n",
    "            if math.isnan(songs['Time'][option2]):\n",
    "                url = songs['URL spotify'][option2] + '#0:01'\n",
    "            else:    \n",
    "                url = songs['URL spotify'][option2] + '#' + songs['Time'][option2]\n",
    "        except:\n",
    "            url = songs['URL spotify'][option2] + '#' + songs['Time'][option2]  \n",
    "        if not webbrowser.open(url):\n",
    "            display(IFrame(src=url, width='1px', height='1px'))\n",
    "    try:\n",
    "        song_number.remove(option2)\n",
    "    except:\n",
    "        pass \n",
    "    clear_output(wait=True)\n",
    "    display(a)\n",
    "    print('-- Round', counter, '--')\n",
    "    if smartphone.value:\n",
    "        display(widgets.HTML(\"<a href=\"+songs['URL'][option2]+\" target='_blank'><b>\"+songs['Question'][option2]+ ' (Click for playing)'+\"</b></a>\"))\n",
    "    else:\n",
    "        print('Question:',songs['Question'][option2])\n",
    "    answer = 'Answer: ' + songs['Answer'][option2]\n",
    "    \n",
    "    \n",
    "def new(change):\n",
    "    global option1, option2, counter, song_number\n",
    "    left_button.disabled = False\n",
    "    right_button.disabled = False\n",
    "    option1 = random.choice(song_number) \n",
    "    left_button.description = songs['Question'][option1]\n",
    "    option2 = random.choice(song_number)\n",
    "    right_button.description = songs['Question'][option2]\n",
    "    counter += 1\n",
    "    clear_output(wait=True)\n",
    "    display(a)\n",
    "    print('-- Round', counter, '--')\n",
    "    \n",
    "def show_result(change):\n",
    "    global answer\n",
    "    print(answer)\n",
    "    \n",
    "    \n",
    "\n",
    "\n",
    "display(a)\n",
    "left_button.on_click(playA)\n",
    "right_button.on_click(playB)\n",
    "header_button.on_click(new)\n",
    "footer_button.on_click(show_result)\n",
    "print('Amount of available songs: %d' %(len(songs)))\n",
    "\n"
   ]
  },
  {
   "cell_type": "code",
   "execution_count": null,
   "metadata": {},
   "outputs": [],
   "source": [
    "\n"
   ]
  },
  {
   "cell_type": "code",
   "execution_count": null,
   "metadata": {},
   "outputs": [],
   "source": []
  },
  {
   "cell_type": "code",
   "execution_count": 43,
   "metadata": {},
   "outputs": [],
   "source": []
  },
  {
   "cell_type": "code",
   "execution_count": null,
   "metadata": {},
   "outputs": [],
   "source": [
    "\n"
   ]
  },
  {
   "cell_type": "code",
   "execution_count": null,
   "metadata": {},
   "outputs": [],
   "source": []
  },
  {
   "cell_type": "code",
   "execution_count": null,
   "metadata": {},
   "outputs": [],
   "source": []
  },
  {
   "cell_type": "code",
   "execution_count": null,
   "metadata": {},
   "outputs": [],
   "source": []
  },
  {
   "cell_type": "code",
   "execution_count": null,
   "metadata": {},
   "outputs": [],
   "source": []
  }
 ],
 "metadata": {
  "kernelspec": {
   "display_name": "Python 3",
   "language": "python",
   "name": "python3"
  },
  "language_info": {
   "codemirror_mode": {
    "name": "ipython",
    "version": 3
   },
   "file_extension": ".py",
   "mimetype": "text/x-python",
   "name": "python",
   "nbconvert_exporter": "python",
   "pygments_lexer": "ipython3",
   "version": "3.6.8"
  }
 },
 "nbformat": 4,
 "nbformat_minor": 4
}
