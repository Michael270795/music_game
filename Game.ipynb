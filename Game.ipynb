{
 "cells": [
  {
   "cell_type": "code",
   "execution_count": 61,
   "metadata": {},
   "outputs": [],
   "source": [
    "import pandas as pd\n",
    "from random import randrange\n",
    "import ipywidgets as widgets\n",
    "import math\n",
    "import random\n",
    "import webbrowser\n",
    "from IPython.display import clear_output\n",
    "from ipywidgets import AppLayout, Button, Layout\n",
    "from IPython.display import IFrame"
   ]
  },
  {
   "cell_type": "code",
   "execution_count": null,
   "metadata": {},
   "outputs": [],
   "source": []
  },
  {
   "cell_type": "code",
   "execution_count": 62,
   "metadata": {},
   "outputs": [],
   "source": [
    "songs = pd.read_excel('songs.xlsx')\n",
    "counter = 0\n",
    "song_number = list(range(len(songs)))"
   ]
  },
  {
   "cell_type": "code",
   "execution_count": null,
   "metadata": {},
   "outputs": [],
   "source": []
  },
  {
   "cell_type": "code",
   "execution_count": 63,
   "metadata": {},
   "outputs": [],
   "source": [
    "#url = songs['URL spotify'][3]\n",
    "\n",
    "\n",
    "# MacOS\n",
    "#chrome_path = 'open -a /Applications/Google\\ Chrome.app %s'\n",
    "\n",
    "#chrome_path = 'open -a /Applications/Safari.app %s'\n",
    "#chrome_path = 'open -a /Applications/Firefox.app %s'\n",
    "# Windows\n",
    "# chrome_path = 'C:/Program Files (x86)/Google/Chrome/Application/chrome.exe %s'\n",
    "# Linux\n",
    "# chrome_path = '/usr/bin/google-chrome %s'\n",
    "\n",
    "#webbrowser.get(chrome_path).open(url)"
   ]
  },
  {
   "cell_type": "code",
   "execution_count": 64,
   "metadata": {},
   "outputs": [],
   "source": [
    "# function to not repeat songs -> clean ending\n",
    "# function to hide answers\n",
    "# function to select languages of songs\n",
    "# function to slecect different genres or playlists\n",
    "# button colour difficulty -> amount of sips\n",
    "# more buttons, make sure that they are all different question categories"
   ]
  },
  {
   "cell_type": "code",
   "execution_count": null,
   "metadata": {},
   "outputs": [],
   "source": []
  },
  {
   "cell_type": "code",
   "execution_count": null,
   "metadata": {},
   "outputs": [],
   "source": []
  },
  {
   "cell_type": "code",
   "execution_count": 65,
   "metadata": {
    "scrolled": false
   },
   "outputs": [
    {
     "data": {
      "application/vnd.jupyter.widget-view+json": {
       "model_id": "d264458ac75144628d9215cb183e0ef6",
       "version_major": 2,
       "version_minor": 0
      },
      "text/plain": [
       "AppLayout(children=(Button(button_style='success', description='Start new round', layout=Layout(grid_area='hea…"
      ]
     },
     "metadata": {},
     "output_type": "display_data"
    },
    {
     "name": "stdout",
     "output_type": "stream",
     "text": [
      "-- Round 4 --\n",
      "Question: What place?\n"
     ]
    }
   ],
   "source": [
    "# button elements\n",
    "\n",
    "def create_expanded_button(description, button_style):\n",
    "    return Button(description=description, button_style=button_style, layout=Layout(height='auto', width='auto'))\n",
    "\n",
    "\n",
    "#html_left = widgets.HTML('<a href=\"spotify:track:2374M0fQpWi3dLnB54qaLX#0:11\" target=\"_blank\"><b>Hellfeldbeleuchtung</b></a>')\n",
    "\n",
    "\n",
    "header_button = create_expanded_button('Start new round', 'success')\n",
    "left_button = create_expanded_button('Song A', 'info')\n",
    "right_button = create_expanded_button('Song B', 'info')\n",
    "footer_button = create_expanded_button('Show answer', '')\n",
    "\n",
    "a = AppLayout(header=header_button,\n",
    "          left_sidebar=left_button,\n",
    "          center=None,\n",
    "          right_sidebar=right_button,\n",
    "          footer=footer_button\n",
    "         )\n",
    "\n",
    "\n",
    "\n",
    "# define functions\n",
    "option1 = randrange(songs.shape[0])\n",
    "option2 = randrange(songs.shape[0])\n",
    "counter = 0\n",
    "answer = ''\n",
    "\n",
    "\n",
    "def playA(change):\n",
    "    global option1\n",
    "    global song_number, answer\n",
    "    right_button.disabled = True\n",
    "    try:\n",
    "        if math.isnan(songs['Time'][option1]):\n",
    "            url = songs['URL spotify'][option1] + '#0:01'\n",
    "        else:    \n",
    "            url = songs['URL spotify'][option1] + '#' + songs['Time'][option1]\n",
    "    except:\n",
    "        url = songs['URL spotify'][option1] + '#' + songs['Time'][option1]\n",
    "    if not webbrowser.open(url):   \n",
    "        display(IFrame(src=url, width='1px', height='1px'))\n",
    "    try:\n",
    "        song_number.remove(option1)\n",
    "    except:\n",
    "        pass\n",
    "    clear_output(wait=True)\n",
    "    display(a)\n",
    "    print('-- Round', counter, '--')\n",
    "    print('Question:',songs['Question'][option1])\n",
    "    answer = 'Answer: ' + songs['Answer'][option1]\n",
    "       \n",
    "def playB(change):\n",
    "    global option2\n",
    "    global song_number, answer\n",
    "    left_button.disabled = True\n",
    "    try:\n",
    "        if math.isnan(songs['Time'][option2]):\n",
    "            url = songs['URL spotify'][option2] + '#0:01'\n",
    "        else:    \n",
    "            url = songs['URL spotify'][option2] + '#' + songs['Time'][option2]\n",
    "    except:\n",
    "        url = songs['URL spotify'][option2] + '#' + songs['Time'][option2]  \n",
    "    if not webbrowser.open(url):\n",
    "        display(IFrame(src=url, width='1px', height='1px'))\n",
    "    try:\n",
    "        song_number.remove(option2)\n",
    "    except:\n",
    "        pass \n",
    "    clear_output(wait=True)\n",
    "    display(a)\n",
    "    print('-- Round', counter, '--')\n",
    "    print('Question:',songs['Question'][option2])\n",
    "    answer = 'Answer: ' + songs['Answer'][option2]\n",
    "    \n",
    "    \n",
    "def new(change):\n",
    "    global option1, option2, counter, song_number\n",
    "    left_button.disabled = False\n",
    "    right_button.disabled = False\n",
    "    option1 = random.choice(song_number) \n",
    "    left_button.description = songs['Question'][option1]\n",
    "    option2 = random.choice(song_number)\n",
    "    right_button.description = songs['Question'][option2]\n",
    "    counter += 1\n",
    "    clear_output(wait=True)\n",
    "    display(a)\n",
    "    print('-- Round', counter, '--')\n",
    "    \n",
    "def show_result(change):\n",
    "    global answer\n",
    "    print(answer)\n",
    "    \n",
    "    \n",
    "\n",
    "\n",
    "display(a)\n",
    "left_button.on_click(playA)\n",
    "right_button.on_click(playB)\n",
    "header_button.on_click(new)\n",
    "footer_button.on_click(show_result)\n",
    "print('Amount of available songs: %d' %(len(songs)))\n",
    "\n"
   ]
  },
  {
   "cell_type": "code",
   "execution_count": null,
   "metadata": {},
   "outputs": [],
   "source": [
    "\n"
   ]
  },
  {
   "cell_type": "code",
   "execution_count": null,
   "metadata": {},
   "outputs": [],
   "source": []
  },
  {
   "cell_type": "code",
   "execution_count": 43,
   "metadata": {},
   "outputs": [],
   "source": []
  },
  {
   "cell_type": "code",
   "execution_count": null,
   "metadata": {},
   "outputs": [],
   "source": [
    "\n"
   ]
  },
  {
   "cell_type": "code",
   "execution_count": null,
   "metadata": {},
   "outputs": [],
   "source": []
  },
  {
   "cell_type": "code",
   "execution_count": 73,
   "metadata": {},
   "outputs": [
    {
     "data": {
      "application/vnd.jupyter.widget-view+json": {
       "model_id": "0d6bdc69896b48f9837a0dbd6c1026d4",
       "version_major": 2,
       "version_minor": 0
      },
      "text/plain": [
       "AppLayout(children=(Button(button_style='success', description='Start new round', layout=Layout(grid_area='hea…"
      ]
     },
     "metadata": {},
     "output_type": "display_data"
    },
    {
     "name": "stdout",
     "output_type": "stream",
     "text": [
      "-- Round 2 --\n"
     ]
    },
    {
     "data": {
      "application/vnd.jupyter.widget-view+json": {
       "model_id": "67aad5f1789c4e7ca4f366315b4ec626",
       "version_major": 2,
       "version_minor": 0
      },
      "text/plain": [
       "HTML(value=\"<a href=https://open.spotify.com/track/0CAfXk7DXMnon4gLudAp7J?si=ptzAwrbUQweX551R89XHug target='_b…"
      ]
     },
     "metadata": {},
     "output_type": "display_data"
    }
   ],
   "source": [
    "# iphone version\n",
    "\n",
    "def create_expanded_button(description, button_style):\n",
    "    return Button(description=description, button_style=button_style, layout=Layout(height='auto', width='auto'))\n",
    "\n",
    "\n",
    "#html_left = widgets.HTML('<a href=\"spotify:track:2374M0fQpWi3dLnB54qaLX#0:11\" target=\"_blank\"><b>Hellfeldbeleuchtung</b></a>')\n",
    "\n",
    "\n",
    "header_button = create_expanded_button('Start new round', 'success')\n",
    "left_button = create_expanded_button('Song A', 'info')\n",
    "right_button = create_expanded_button('Song B', 'info')\n",
    "footer_button = create_expanded_button('Show answer', '')\n",
    "\n",
    "a = AppLayout(header=header_button,\n",
    "          left_sidebar=left_button,\n",
    "          center=None,\n",
    "          right_sidebar=right_button,\n",
    "          footer=footer_button\n",
    "         )\n",
    "\n",
    "\n",
    "\n",
    "# define functions\n",
    "option1 = randrange(songs.shape[0])\n",
    "option2 = randrange(songs.shape[0])\n",
    "counter = 0\n",
    "answer = ''\n",
    "\n",
    "\n",
    "def playA(change):\n",
    "    global option1\n",
    "    global song_number, answer\n",
    "    right_button.disabled = True\n",
    "    try:\n",
    "        song_number.remove(option1)\n",
    "    except:\n",
    "        pass\n",
    "    clear_output(wait=True)\n",
    "    display(a)\n",
    "    print('-- Round', counter, '--')\n",
    "    #print('Question:',songs['Question'][option1])\n",
    "    display(widgets.HTML(\"<a href=\"+songs['URL'][option1]+\" target='_blank'><b>\"+songs['Question'][option1]+ ' (Click for playing)'+\"</b></a>\"))\n",
    "    answer = 'Answer: ' + songs['Answer'][option1]\n",
    "       \n",
    "def playB(change):\n",
    "    global option2\n",
    "    global song_number, answer\n",
    "    left_button.disabled = True\n",
    "    try:\n",
    "        song_number.remove(option2)\n",
    "    except:\n",
    "        pass \n",
    "    clear_output(wait=True)\n",
    "    display(a)\n",
    "    print('-- Round', counter, '--')\n",
    "    #print('Question:',songs['Question'][option2])\n",
    "    display(widgets.HTML(\"<a href=\"+songs['URL'][option2]+\" target='_blank'><b>\"+songs['Question'][option2]+ ' (Click for playing)'+\"</b></a>\"))\n",
    "    answer = 'Answer: ' + songs['Answer'][option2]\n",
    "    \n",
    "    \n",
    "def new(change):\n",
    "    global option1, option2, counter, song_number\n",
    "    left_button.disabled = False\n",
    "    right_button.disabled = False\n",
    "    option1 = random.choice(song_number) \n",
    "    left_button.description = songs['Question'][option1]\n",
    "    option2 = random.choice(song_number)\n",
    "    right_button.description = songs['Question'][option2]\n",
    "    counter += 1\n",
    "    clear_output(wait=True)\n",
    "    display(a)\n",
    "    print('-- Round', counter, '--')\n",
    "    \n",
    "def show_result(change):\n",
    "    global answer\n",
    "    print(answer)\n",
    "    \n",
    "    \n",
    "\n",
    "\n",
    "display(a)\n",
    "left_button.on_click(playA)\n",
    "right_button.on_click(playB)\n",
    "header_button.on_click(new)\n",
    "footer_button.on_click(show_result)\n",
    "print('Amount of available songs: %d' %(len(songs)))\n",
    "\n",
    "\n"
   ]
  },
  {
   "cell_type": "code",
   "execution_count": null,
   "metadata": {},
   "outputs": [],
   "source": []
  },
  {
   "cell_type": "code",
   "execution_count": null,
   "metadata": {},
   "outputs": [],
   "source": []
  }
 ],
 "metadata": {
  "kernelspec": {
   "display_name": "Python 3",
   "language": "python",
   "name": "python3"
  },
  "language_info": {
   "codemirror_mode": {
    "name": "ipython",
    "version": 3
   },
   "file_extension": ".py",
   "mimetype": "text/x-python",
   "name": "python",
   "nbconvert_exporter": "python",
   "pygments_lexer": "ipython3",
   "version": "3.6.8"
  }
 },
 "nbformat": 4,
 "nbformat_minor": 4
}
